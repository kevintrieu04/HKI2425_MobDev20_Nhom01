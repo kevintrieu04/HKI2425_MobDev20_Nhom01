{
  "cells": [
    {
      "cell_type": "markdown",
      "metadata": {
        "id": "hOS97iA-YqZR"
      },
      "source": [
        "# RNN Text Classification: Predict the sentiment of IMDB movie reviews"
      ]
    },
    {
      "cell_type": "code",
      "execution_count": null,
      "metadata": {
        "colab": {
          "base_uri": "https://localhost:8080/"
        },
        "id": "DAyIPrFoaK09",
        "outputId": "1b1b11e1-a5bf-4f00-92ff-336a02e4ed1e"
      },
      "outputs": [
        {
          "name": "stderr",
          "output_type": "stream",
          "text": [
            "[nltk_data] Downloading package stopwords to /root/nltk_data...\n",
            "[nltk_data]   Unzipping corpora/stopwords.zip.\n"
          ]
        },
        {
          "data": {
            "text/plain": [
              "True"
            ]
          },
          "execution_count": 1,
          "metadata": {},
          "output_type": "execute_result"
        }
      ],
      "source": [
        "# Download stopwords\n",
        "import nltk\n",
        "nltk.download('stopwords')"
      ]
    },
    {
      "cell_type": "code",
      "execution_count": null,
      "metadata": {
        "id": "GavNnGaE_sD_"
      },
      "outputs": [],
      "source": [
        "import random\n",
        "import re\n",
        "from collections import Counter\n",
        "from functools import partial\n",
        "from pathlib import Path\n",
        "\n",
        "import matplotlib.pyplot as plt\n",
        "import numpy as np\n",
        "import pandas as pd\n",
        "from nltk.corpus import stopwords\n",
        "from nltk import wordpunct_tokenize\n",
        "from tqdm import tqdm, tqdm_notebook\n",
        "from sklearn.metrics import classification_report\n",
        "\n",
        "import torch\n",
        "import torch.nn as nn\n",
        "import torch.nn.functional as F\n",
        "from torch import optim\n",
        "from torch.optim.lr_scheduler import CosineAnnealingLR\n",
        "from torch.utils.data import Dataset, DataLoader\n",
        "from torch.utils.data.dataset import random_split\n",
        "from torch.nn.utils.rnn import pack_padded_sequence, pad_packed_sequence\n",
        "\n",
        "from IPython.core.display import display, HTML\n",
        "from google_drive_downloader import GoogleDriveDownloader as gdd\n",
        "\n",
        "# Make plots look pretty\n",
        "%matplotlib inline\n",
        "%config InlineBackend.figure_formats = ['svg']\n",
        "plt.style.use('ggplot')\n",
        "\n",
        "tqdm.pandas()"
      ]
    },
    {
      "cell_type": "markdown",
      "metadata": {
        "id": "dKg8Lj61b3FO"
      },
      "source": [
        "In order to perform deep learning on a GPU (so that everything runs super quick!), CUDA has to be installed and configured. Fortunately, Google Colab already has this set up, but if you want to try this on your own GPU, you can [install CUDA from here](https://developer.nvidia.com/cuda-downloads). Make sure you also [install cuDNN](https://developer.nvidia.com/cudnn) for optimized performance."
      ]
    },
    {
      "cell_type": "code",
      "execution_count": null,
      "metadata": {
        "colab": {
          "base_uri": "https://localhost:8080/"
        },
        "id": "Cz-5stSEbUzQ",
        "outputId": "fab7edfe-2904-435a-828e-ca2c537327ac"
      },
      "outputs": [
        {
          "data": {
            "text/plain": [
              "device(type='cpu')"
            ]
          },
          "execution_count": 3,
          "metadata": {},
          "output_type": "execute_result"
        }
      ],
      "source": [
        "device = torch.device('cuda' if torch.cuda.is_available() else 'cpu')\n",
        "device"
      ]
    },
    {
      "cell_type": "markdown",
      "metadata": {
        "id": "r3ACuac9H6e0"
      },
      "source": [
        "## Download the training data\n",
        "\n",
        "This is a dataset of positive and negative IMDB reviews. We can download the data from a public Google Drive folder."
      ]
    },
    {
      "cell_type": "code",
      "execution_count": null,
      "metadata": {
        "colab": {
          "base_uri": "https://localhost:8080/"
        },
        "id": "HygBcmu9YqZY",
        "outputId": "05ccda3e-d58a-4122-beaf-8ebec01e0812"
      },
      "outputs": [
        {
          "name": "stdout",
          "output_type": "stream",
          "text": [
            "Downloading 1zfM5E6HvKIe7f3rEt1V2gBpw5QOSSKQz into data/imdb_reviews.csv... Done.\n"
          ]
        }
      ],
      "source": [
        "DATA_PATH = 'data/imdb_reviews.csv'\n",
        "if not Path(DATA_PATH).is_file():\n",
        "    gdd.download_file_from_google_drive(\n",
        "        file_id='1zfM5E6HvKIe7f3rEt1V2gBpw5QOSSKQz',\n",
        "        dest_path=DATA_PATH,\n",
        "    )"
      ]
    },
    {
      "cell_type": "code",
      "execution_count": null,
      "metadata": {
        "colab": {
          "base_uri": "https://localhost:8080/",
          "height": 206
        },
        "id": "_ahbZFaAjS5m",
        "outputId": "3360847e-54ca-4cf2-83c7-4e83a66bba46"
      },
      "outputs": [
        {
          "data": {
            "application/vnd.google.colaboratory.intrinsic+json": {
              "summary": "{\n  \"name\": \"df\",\n  \"rows\": 62155,\n  \"fields\": [\n    {\n      \"column\": \"review\",\n      \"properties\": {\n        \"dtype\": \"string\",\n        \"num_unique_values\": 62155,\n        \"samples\": [\n          \"Just bought the VHS on this film for two bucks, Did I waste my money! Hey, I dig Adam \\\"Batman\\\" West and Tina \\\"Giligan's Island\\\" Louise, but hello! This third rate production is a rehash of a dozen other biker films; crazed bunch of bikers psychos ride into a hick town, beat up everybody and everything, and then are defeated in the man by a dashing hero. Adam West looks the part as a hero, but he's missing cape, and his Batman uniform. Sorry, just isn't the same. Tina L. looks really nervous and frightened the whole show, but at least we know what happened to \\\"Ginger\\\" once she was rescued from the island...LOL! The bikers are a motley group, and known of them ever acted again or at least shouldn't have. Hell Riders is Hell to Watch!\",\n          \"While some scenes of training were realistic, too many of them depicted military instructors as ex-Nazi types. Obviously, the people who wrote the screen play were either anti-military types or writing a film for that audience.<br /><br />I am a Viet Nam vet and, even during this period, military instructors who behaved in the manner some of these did would probably still be serving time in military prison.<br /><br />And I really loved the scene where the \\\"hero\\\" and his buddy (both privates) are sitting down in the Captain's office, smoking cigarettes and talking and cussing with the Captain as if he were their buddy. This sort of thing never happened in training or in a formal situation, as was the purpose for the scene.<br /><br />At the end I asked myself, \\\"What was this film about?\\\" as it seemed to wander around all over the place with no focus except \\\"I hate all authority.\\\" Thank God I got it from the library and did not pay to rent it.\",\n          \"Antwone Fisher's story of childhood neglect and abuse is an inspiration to all among us who witnessed or even experienced the plight of foster children. Abandoned by a troubled mother, Antwone has never met his father. Growing up with \\\\church going\\\\\\\" abusers who use the \\\\\\\"n-word\\\\\\\" not only to intimidate and hurt but also as a term of endearment, as a young man witnessing how his best friend is killed in a hold-up, enduring racial slurs and being teased while serving in the Navy, Antwone's anger is slowly turned into positive power when counseled by a Navy psychiatrist, and a love enters his life.<br /><br />The scene where Antwone meets his birth mother is one of the most powerful moments in the film. Stunned by the unexpected confrontation, the woman listens in silence to hear the young man tell her how he has lived a life without crime, addictions to drugs, fathering children left and right, all despite his utterly adverse circumstances.<br /><br />If that scene wasn't powerful enough, the very next one drives it home (and opens the flood gates): A reception to welcome home Antwone; dozens of smiling faces and open arms announcing that HE is part of this great family.<br /><br />One of the messages delivered by this wonderful film is that there are many well-meaning and sincere people working to help orphans and unwanted children. Even if some of the homes and administrators don't seem to care and appear self-serving, many do give it their all. The character who found Antwone's \\\\\\\"file\\\\\\\" once he disclosed the circumstances of his birth is one of those \\\\\\\"bright lights\\\\\\\" in the darkness of the system.<br /><br />The DVD includes a French Language track, various subtitle choices, as well as additional features and information about foster parenting.<br /><br />As a Clevelander I appreciated the location footage. No matter where you are from, you will be deeply moved by this autobiographical gem.\\\"\"\n        ],\n        \"semantic_type\": \"\",\n        \"description\": \"\"\n      }\n    },\n    {\n      \"column\": \"label\",\n      \"properties\": {\n        \"dtype\": \"number\",\n        \"std\": 0,\n        \"min\": 0,\n        \"max\": 1,\n        \"num_unique_values\": 2,\n        \"samples\": [\n          1,\n          0\n        ],\n        \"semantic_type\": \"\",\n        \"description\": \"\"\n      }\n    }\n  ]\n}",
              "type": "dataframe",
              "variable_name": "df"
            },
            "text/html": [
              "\n",
              "  <div id=\"df-8c160c40-1a25-408b-a33d-d266d5b05a35\" class=\"colab-df-container\">\n",
              "    <div>\n",
              "<style scoped>\n",
              "    .dataframe tbody tr th:only-of-type {\n",
              "        vertical-align: middle;\n",
              "    }\n",
              "\n",
              "    .dataframe tbody tr th {\n",
              "        vertical-align: top;\n",
              "    }\n",
              "\n",
              "    .dataframe thead th {\n",
              "        text-align: right;\n",
              "    }\n",
              "</style>\n",
              "<table border=\"1\" class=\"dataframe\">\n",
              "  <thead>\n",
              "    <tr style=\"text-align: right;\">\n",
              "      <th></th>\n",
              "      <th>review</th>\n",
              "      <th>label</th>\n",
              "    </tr>\n",
              "  </thead>\n",
              "  <tbody>\n",
              "    <tr>\n",
              "      <th>0</th>\n",
              "      <td>Once again Mr. Costner has dragged out a movie...</td>\n",
              "      <td>0</td>\n",
              "    </tr>\n",
              "    <tr>\n",
              "      <th>1</th>\n",
              "      <td>This is an example of why the majority of acti...</td>\n",
              "      <td>0</td>\n",
              "    </tr>\n",
              "    <tr>\n",
              "      <th>2</th>\n",
              "      <td>First of all I hate those moronic rappers, who...</td>\n",
              "      <td>0</td>\n",
              "    </tr>\n",
              "    <tr>\n",
              "      <th>3</th>\n",
              "      <td>Not even the Beatles could write songs everyon...</td>\n",
              "      <td>0</td>\n",
              "    </tr>\n",
              "    <tr>\n",
              "      <th>4</th>\n",
              "      <td>Brass pictures (movies is not a fitting word f...</td>\n",
              "      <td>0</td>\n",
              "    </tr>\n",
              "  </tbody>\n",
              "</table>\n",
              "</div>\n",
              "    <div class=\"colab-df-buttons\">\n",
              "\n",
              "  <div class=\"colab-df-container\">\n",
              "    <button class=\"colab-df-convert\" onclick=\"convertToInteractive('df-8c160c40-1a25-408b-a33d-d266d5b05a35')\"\n",
              "            title=\"Convert this dataframe to an interactive table.\"\n",
              "            style=\"display:none;\">\n",
              "\n",
              "  <svg xmlns=\"http://www.w3.org/2000/svg\" height=\"24px\" viewBox=\"0 -960 960 960\">\n",
              "    <path d=\"M120-120v-720h720v720H120Zm60-500h600v-160H180v160Zm220 220h160v-160H400v160Zm0 220h160v-160H400v160ZM180-400h160v-160H180v160Zm440 0h160v-160H620v160ZM180-180h160v-160H180v160Zm440 0h160v-160H620v160Z\"/>\n",
              "  </svg>\n",
              "    </button>\n",
              "\n",
              "  <style>\n",
              "    .colab-df-container {\n",
              "      display:flex;\n",
              "      gap: 12px;\n",
              "    }\n",
              "\n",
              "    .colab-df-convert {\n",
              "      background-color: #E8F0FE;\n",
              "      border: none;\n",
              "      border-radius: 50%;\n",
              "      cursor: pointer;\n",
              "      display: none;\n",
              "      fill: #1967D2;\n",
              "      height: 32px;\n",
              "      padding: 0 0 0 0;\n",
              "      width: 32px;\n",
              "    }\n",
              "\n",
              "    .colab-df-convert:hover {\n",
              "      background-color: #E2EBFA;\n",
              "      box-shadow: 0px 1px 2px rgba(60, 64, 67, 0.3), 0px 1px 3px 1px rgba(60, 64, 67, 0.15);\n",
              "      fill: #174EA6;\n",
              "    }\n",
              "\n",
              "    .colab-df-buttons div {\n",
              "      margin-bottom: 4px;\n",
              "    }\n",
              "\n",
              "    [theme=dark] .colab-df-convert {\n",
              "      background-color: #3B4455;\n",
              "      fill: #D2E3FC;\n",
              "    }\n",
              "\n",
              "    [theme=dark] .colab-df-convert:hover {\n",
              "      background-color: #434B5C;\n",
              "      box-shadow: 0px 1px 3px 1px rgba(0, 0, 0, 0.15);\n",
              "      filter: drop-shadow(0px 1px 2px rgba(0, 0, 0, 0.3));\n",
              "      fill: #FFFFFF;\n",
              "    }\n",
              "  </style>\n",
              "\n",
              "    <script>\n",
              "      const buttonEl =\n",
              "        document.querySelector('#df-8c160c40-1a25-408b-a33d-d266d5b05a35 button.colab-df-convert');\n",
              "      buttonEl.style.display =\n",
              "        google.colab.kernel.accessAllowed ? 'block' : 'none';\n",
              "\n",
              "      async function convertToInteractive(key) {\n",
              "        const element = document.querySelector('#df-8c160c40-1a25-408b-a33d-d266d5b05a35');\n",
              "        const dataTable =\n",
              "          await google.colab.kernel.invokeFunction('convertToInteractive',\n",
              "                                                    [key], {});\n",
              "        if (!dataTable) return;\n",
              "\n",
              "        const docLinkHtml = 'Like what you see? Visit the ' +\n",
              "          '<a target=\"_blank\" href=https://colab.research.google.com/notebooks/data_table.ipynb>data table notebook</a>'\n",
              "          + ' to learn more about interactive tables.';\n",
              "        element.innerHTML = '';\n",
              "        dataTable['output_type'] = 'display_data';\n",
              "        await google.colab.output.renderOutput(dataTable, element);\n",
              "        const docLink = document.createElement('div');\n",
              "        docLink.innerHTML = docLinkHtml;\n",
              "        element.appendChild(docLink);\n",
              "      }\n",
              "    </script>\n",
              "  </div>\n",
              "\n",
              "\n",
              "<div id=\"df-c702c709-a40e-4deb-9157-b88f22a830a6\">\n",
              "  <button class=\"colab-df-quickchart\" onclick=\"quickchart('df-c702c709-a40e-4deb-9157-b88f22a830a6')\"\n",
              "            title=\"Suggest charts\"\n",
              "            style=\"display:none;\">\n",
              "\n",
              "<svg xmlns=\"http://www.w3.org/2000/svg\" height=\"24px\"viewBox=\"0 0 24 24\"\n",
              "     width=\"24px\">\n",
              "    <g>\n",
              "        <path d=\"M19 3H5c-1.1 0-2 .9-2 2v14c0 1.1.9 2 2 2h14c1.1 0 2-.9 2-2V5c0-1.1-.9-2-2-2zM9 17H7v-7h2v7zm4 0h-2V7h2v10zm4 0h-2v-4h2v4z\"/>\n",
              "    </g>\n",
              "</svg>\n",
              "  </button>\n",
              "\n",
              "<style>\n",
              "  .colab-df-quickchart {\n",
              "      --bg-color: #E8F0FE;\n",
              "      --fill-color: #1967D2;\n",
              "      --hover-bg-color: #E2EBFA;\n",
              "      --hover-fill-color: #174EA6;\n",
              "      --disabled-fill-color: #AAA;\n",
              "      --disabled-bg-color: #DDD;\n",
              "  }\n",
              "\n",
              "  [theme=dark] .colab-df-quickchart {\n",
              "      --bg-color: #3B4455;\n",
              "      --fill-color: #D2E3FC;\n",
              "      --hover-bg-color: #434B5C;\n",
              "      --hover-fill-color: #FFFFFF;\n",
              "      --disabled-bg-color: #3B4455;\n",
              "      --disabled-fill-color: #666;\n",
              "  }\n",
              "\n",
              "  .colab-df-quickchart {\n",
              "    background-color: var(--bg-color);\n",
              "    border: none;\n",
              "    border-radius: 50%;\n",
              "    cursor: pointer;\n",
              "    display: none;\n",
              "    fill: var(--fill-color);\n",
              "    height: 32px;\n",
              "    padding: 0;\n",
              "    width: 32px;\n",
              "  }\n",
              "\n",
              "  .colab-df-quickchart:hover {\n",
              "    background-color: var(--hover-bg-color);\n",
              "    box-shadow: 0 1px 2px rgba(60, 64, 67, 0.3), 0 1px 3px 1px rgba(60, 64, 67, 0.15);\n",
              "    fill: var(--button-hover-fill-color);\n",
              "  }\n",
              "\n",
              "  .colab-df-quickchart-complete:disabled,\n",
              "  .colab-df-quickchart-complete:disabled:hover {\n",
              "    background-color: var(--disabled-bg-color);\n",
              "    fill: var(--disabled-fill-color);\n",
              "    box-shadow: none;\n",
              "  }\n",
              "\n",
              "  .colab-df-spinner {\n",
              "    border: 2px solid var(--fill-color);\n",
              "    border-color: transparent;\n",
              "    border-bottom-color: var(--fill-color);\n",
              "    animation:\n",
              "      spin 1s steps(1) infinite;\n",
              "  }\n",
              "\n",
              "  @keyframes spin {\n",
              "    0% {\n",
              "      border-color: transparent;\n",
              "      border-bottom-color: var(--fill-color);\n",
              "      border-left-color: var(--fill-color);\n",
              "    }\n",
              "    20% {\n",
              "      border-color: transparent;\n",
              "      border-left-color: var(--fill-color);\n",
              "      border-top-color: var(--fill-color);\n",
              "    }\n",
              "    30% {\n",
              "      border-color: transparent;\n",
              "      border-left-color: var(--fill-color);\n",
              "      border-top-color: var(--fill-color);\n",
              "      border-right-color: var(--fill-color);\n",
              "    }\n",
              "    40% {\n",
              "      border-color: transparent;\n",
              "      border-right-color: var(--fill-color);\n",
              "      border-top-color: var(--fill-color);\n",
              "    }\n",
              "    60% {\n",
              "      border-color: transparent;\n",
              "      border-right-color: var(--fill-color);\n",
              "    }\n",
              "    80% {\n",
              "      border-color: transparent;\n",
              "      border-right-color: var(--fill-color);\n",
              "      border-bottom-color: var(--fill-color);\n",
              "    }\n",
              "    90% {\n",
              "      border-color: transparent;\n",
              "      border-bottom-color: var(--fill-color);\n",
              "    }\n",
              "  }\n",
              "</style>\n",
              "\n",
              "  <script>\n",
              "    async function quickchart(key) {\n",
              "      const quickchartButtonEl =\n",
              "        document.querySelector('#' + key + ' button');\n",
              "      quickchartButtonEl.disabled = true;  // To prevent multiple clicks.\n",
              "      quickchartButtonEl.classList.add('colab-df-spinner');\n",
              "      try {\n",
              "        const charts = await google.colab.kernel.invokeFunction(\n",
              "            'suggestCharts', [key], {});\n",
              "      } catch (error) {\n",
              "        console.error('Error during call to suggestCharts:', error);\n",
              "      }\n",
              "      quickchartButtonEl.classList.remove('colab-df-spinner');\n",
              "      quickchartButtonEl.classList.add('colab-df-quickchart-complete');\n",
              "    }\n",
              "    (() => {\n",
              "      let quickchartButtonEl =\n",
              "        document.querySelector('#df-c702c709-a40e-4deb-9157-b88f22a830a6 button');\n",
              "      quickchartButtonEl.style.display =\n",
              "        google.colab.kernel.accessAllowed ? 'block' : 'none';\n",
              "    })();\n",
              "  </script>\n",
              "</div>\n",
              "\n",
              "    </div>\n",
              "  </div>\n"
            ],
            "text/plain": [
              "                                              review  label\n",
              "0  Once again Mr. Costner has dragged out a movie...      0\n",
              "1  This is an example of why the majority of acti...      0\n",
              "2  First of all I hate those moronic rappers, who...      0\n",
              "3  Not even the Beatles could write songs everyon...      0\n",
              "4  Brass pictures (movies is not a fitting word f...      0"
            ]
          },
          "execution_count": 5,
          "metadata": {},
          "output_type": "execute_result"
        }
      ],
      "source": [
        "df = pd.read_csv(DATA_PATH)\n",
        "df.head()"
      ]
    },
    {
      "cell_type": "markdown",
      "metadata": {
        "id": "nmNt55pgKIDa"
      },
      "source": [
        "## Preprocess the text"
      ]
    },
    {
      "cell_type": "code",
      "execution_count": null,
      "metadata": {
        "id": "jvHQmJZQB2gQ"
      },
      "outputs": [],
      "source": [
        "def remove_rare_words(tokens, common_tokens, max_len):\n",
        "    return [token if token in common_tokens\n",
        "            else '<UNK>' for token in tokens][-max_len:]\n",
        "\n",
        "\n",
        "def tokenize(text, stop_words):\n",
        "    text = re.sub(r'[^\\w\\s]', '', text)\n",
        "    text = text.lower()\n",
        "    tokens = wordpunct_tokenize(text)\n",
        "    tokens = [token for token in tokens if token not in stop_words]\n",
        "    return tokens\n",
        "\n",
        "\n",
        "class ImdbSentimentDataset(Dataset):\n",
        "    def __init__(self, data_path, max_vocab, max_len):\n",
        "        df = pd.read_csv(data_path)\n",
        "\n",
        "        # Clean and tokenize\n",
        "        stop_words = set(stopwords.words('english'))\n",
        "        df['tokens'] = df.review.progress_apply(\n",
        "            partial(tokenize, stop_words=stop_words),\n",
        "        )\n",
        "\n",
        "        # Replace rare words with <UNK>\n",
        "        all_tokens = [sublst for lst in df.tokens.tolist() for sublst in lst]\n",
        "        common_tokens = set(list(zip(\n",
        "            *Counter(all_tokens).most_common(max_vocab)))[0])\n",
        "        df.loc[:, 'tokens'] = df.tokens.progress_apply(\n",
        "            partial(\n",
        "                remove_rare_words,\n",
        "                common_tokens=common_tokens,\n",
        "                max_len=max_len,\n",
        "            ),\n",
        "        )\n",
        "\n",
        "        # Remove sequences with only <UNK>\n",
        "        df = df[df.tokens.progress_apply(\n",
        "            lambda tokens: any(token != '<UNK>' for token in tokens),\n",
        "        )]\n",
        "\n",
        "        vocab = sorted({\n",
        "            sublst for lst in df.tokens.tolist() for sublst in lst\n",
        "        })\n",
        "        self.token2idx = {token: idx for idx, token in enumerate(vocab)}\n",
        "\n",
        "        # Add a padding idx\n",
        "        self.token2idx['<PAD>'] = max(self.token2idx.values()) + 1\n",
        "\n",
        "        self.idx2token = {idx: token for token, idx in self.token2idx.items()}\n",
        "\n",
        "        df['indexed_tokens'] = df.tokens.apply(\n",
        "            lambda tokens: [self.token2idx[token] for token in tokens],\n",
        "        )\n",
        "        self.text = df.review.tolist()\n",
        "        self.sequences = df.indexed_tokens.tolist()\n",
        "        self.targets = df.label.tolist()\n",
        "\n",
        "    def __getitem__(self, i):\n",
        "        return self.sequences[i], self.targets[i],  self.text[i]\n",
        "\n",
        "    def __len__(self):\n",
        "        return len(self.sequences)"
      ]
    },
    {
      "cell_type": "code",
      "execution_count": null,
      "metadata": {
        "colab": {
          "base_uri": "https://localhost:8080/"
        },
        "id": "2YcDPSgKIgcm",
        "outputId": "4839c427-e986-4b09-84d8-07e4e5f04a55"
      },
      "outputs": [
        {
          "name": "stderr",
          "output_type": "stream",
          "text": [
            "100%|██████████| 62155/62155 [00:12<00:00, 4943.29it/s]\n",
            "100%|██████████| 62155/62155 [00:01<00:00, 46617.29it/s]\n",
            "100%|██████████| 62155/62155 [00:00<00:00, 517913.55it/s]\n"
          ]
        }
      ],
      "source": [
        "# How many of the most common vocab words to keep\n",
        "# Uncommon words get replaced with unknown token <UNK>\n",
        "max_vocab = 1000  #@param {type:\"integer\"}\n",
        "\n",
        "# How many tokens long each sequence will be cut to\n",
        "# Shorter sequences will get the padding token <PAD>\n",
        "max_len = 220  #@param {type:\"slider\", min:16, max:512, step:2}\n",
        "\n",
        "dataset = ImdbSentimentDataset(DATA_PATH, max_vocab, max_len)"
      ]
    },
    {
      "cell_type": "markdown",
      "metadata": {
        "id": "p1MgWODgMm2i"
      },
      "source": [
        "## Split into training, validation, and test sets\n",
        "\n",
        "- **Training**: data the model learns from\n",
        "- **Validation**: data to evaluate with for hyperparameter tuning (make sure the model doesn't overfit!)\n",
        "- **Testing**: data to evaluate the final performance of the model"
      ]
    },
    {
      "cell_type": "code",
      "execution_count": null,
      "metadata": {
        "id": "S5dQhC-rIt06"
      },
      "outputs": [],
      "source": [
        "def split_train_valid_test(corpus, valid_ratio=0.1, test_ratio=0.1):\n",
        "    \"\"\"Split dataset into train, validation, and test.\"\"\"\n",
        "    test_length = int(len(corpus) * test_ratio)\n",
        "    valid_length = int(len(corpus) * valid_ratio)\n",
        "    train_length = len(corpus) - valid_length - test_length\n",
        "    return random_split(\n",
        "        corpus, lengths=[train_length, valid_length, test_length],\n",
        "    )"
      ]
    },
    {
      "cell_type": "code",
      "execution_count": null,
      "metadata": {
        "colab": {
          "base_uri": "https://localhost:8080/"
        },
        "id": "fzHPR3aqNJGA",
        "outputId": "b152095b-e7b6-48de-e76a-bcd3e906c56f"
      },
      "outputs": [
        {
          "data": {
            "text/plain": [
              "(35429, 12430, 14295)"
            ]
          },
          "execution_count": 9,
          "metadata": {},
          "output_type": "execute_result"
        }
      ],
      "source": [
        "valid_ratio = 0.2  #@param {type:\"slider\", min:0.01, max:0.3, step:0.01}\n",
        "test_ratio = 0.23  #@param {type:\"slider\", min:0.01, max:0.3, step:0.01}\n",
        "\n",
        "train_dataset, valid_dataset, test_dataset = split_train_valid_test(\n",
        "    dataset, valid_ratio=valid_ratio, test_ratio=test_ratio)\n",
        "len(train_dataset), len(valid_dataset), len(test_dataset)"
      ]
    },
    {
      "cell_type": "code",
      "execution_count": null,
      "metadata": {
        "id": "LXdf7wRQNP0l"
      },
      "outputs": [],
      "source": [
        "def collate(batch):\n",
        "    inputs = [item[0] for item in batch]\n",
        "    target = torch.LongTensor([item[1] for item in batch])\n",
        "    text = [item[2] for item in batch]\n",
        "    return inputs, target, text\n",
        "\n",
        "# Powers of two are preferred for optimal usage on the GPU\n",
        "batch_size = 512  #@param {type:\"integer\"}\n",
        "\n",
        "train_loader = DataLoader(train_dataset, batch_size=batch_size, collate_fn=collate)\n",
        "valid_loader = DataLoader(valid_dataset, batch_size=batch_size, collate_fn=collate)\n",
        "test_loader = DataLoader(test_dataset, batch_size=batch_size, collate_fn=collate)"
      ]
    },
    {
      "cell_type": "markdown",
      "metadata": {
        "id": "hWQLJDutQb80"
      },
      "source": [
        "## Define the model architecture\n",
        "\n",
        "**General RNN Structure:**\n",
        "\n",
        "![RNN](https://github.com/scoutbeedev/pytorch-nlp-notebooks/blob/master/images/rnn.png?raw=1)\n",
        "\n",
        "**LSTM**\n",
        "\n",
        "- Why is LSTM able to preserve long term dependency nicely?\n",
        "\n",
        "![LSTM](https://github.com/scoutbeedev/pytorch-nlp-notebooks/blob/master/images/lstm_cell.png?raw=1)"
      ]
    },
    {
      "cell_type": "code",
      "execution_count": null,
      "metadata": {
        "id": "ARBIogVSNWog"
      },
      "outputs": [],
      "source": [
        "def pad_sequences(sequences, padding_val=0, pad_left=False):\n",
        "    \"\"\"Pad a list of sequences to the same length with a padding_val.\"\"\"\n",
        "    sequence_length = max(len(sequence) for sequence in sequences)\n",
        "    if not pad_left:\n",
        "        return [\n",
        "            sequence + (sequence_length - len(sequence)) * [padding_val]\n",
        "            for sequence in sequences\n",
        "        ]\n",
        "    return [\n",
        "        (sequence_length - len(sequence)) * [padding_val] + sequence\n",
        "        for sequence in sequences\n",
        "    ]\n",
        "\n",
        "\n",
        "class RNNClassifier(nn.Module):\n",
        "    def __init__(self, output_size, hidden_size, vocab_size, padding_idx,\n",
        "                 device, dropout_probability=0.3, bidirectional=False, n_layers=1,\n",
        "                 embedding_dimension=50, batch_size=32):\n",
        "        super(RNNClassifier, self).__init__()\n",
        "        self.hidden_size = hidden_size\n",
        "        self.output_size = output_size\n",
        "        self.batch_size = batch_size\n",
        "        self.n_layers = n_layers\n",
        "        self.dropout_probability = dropout_probability\n",
        "        self.device = device\n",
        "        self.padding_idx = padding_idx\n",
        "\n",
        "        # We need to multiply some layers by two if the model is bidirectional\n",
        "        self.input_size_factor = 2 if bidirectional else 1\n",
        "\n",
        "        self.embedding = nn.Embedding(vocab_size, embedding_dimension)\n",
        "\n",
        "        self.rnn = nn.LSTM(\n",
        "            embedding_dimension,\n",
        "            self.hidden_size,\n",
        "            self.n_layers,\n",
        "            bidirectional=bidirectional,\n",
        "        )\n",
        "\n",
        "        self.fc1 = nn.Linear(\n",
        "            self.hidden_size * self.input_size_factor,\n",
        "            16,\n",
        "        )\n",
        "        self.fc2 = nn.Linear(\n",
        "            16,\n",
        "            self.output_size,\n",
        "        )\n",
        "\n",
        "\n",
        "    def init_hidden(self):\n",
        "        \"\"\"Set initial hidden states.\"\"\"\n",
        "        h0 = torch.randn(\n",
        "            self.n_layers * self.input_size_factor,\n",
        "            self.batch_size,\n",
        "            self.hidden_size,\n",
        "        )\n",
        "        c0 = torch.randn(\n",
        "            self.n_layers * self.input_size_factor,\n",
        "            self.batch_size,\n",
        "            self.hidden_size,\n",
        "        )\n",
        "\n",
        "        h0 = h0.to(self.device)\n",
        "        c0 = c0.to(self.device)\n",
        "\n",
        "        return h0, c0\n",
        "\n",
        "    def apply_rnn(self, embedding_out, lengths):\n",
        "        packed = pack_padded_sequence(\n",
        "            embedding_out,\n",
        "            lengths,\n",
        "            batch_first=True,\n",
        "        )\n",
        "        activations, (hidden, cell) = self.rnn(packed, self.init_hidden())\n",
        "        activations, _ = pad_packed_sequence(activations, batch_first=True)\n",
        "        return activations, hidden\n",
        "\n",
        "    # attention\n",
        "    def attention(self, lstm_output, final_state):\n",
        "        #concatenate and the reshaped merged_state\n",
        "        merged_state = torch.cat([s for s in final_state], 1)\n",
        "        merged_state = merged_state.squeeze(0).unsqueeze(2)\n",
        "        # multiplication between the lstm_output and mergestate to calculating attention weights\n",
        "        weights = torch.bmm(lstm_output, merged_state)\n",
        "        # normalizes the attention scores across the sequence\n",
        "        weights = F.softmax(weights.squeeze(2), dim=1).unsqueeze(2)\n",
        "        #computes a weighted sum of the encoded sequence elements, where the weights are the attention scores.\n",
        "        return torch.bmm(torch.transpose(lstm_output, 1, 2), weights).squeeze(2)\n",
        "\n",
        "    def forward(self, inputs, return_activations=False):\n",
        "        batch_size = len(inputs)\n",
        "\n",
        "        # This makes the model not break for the last batch that might be less\n",
        "        # than batch_size in size\n",
        "        if batch_size != self.batch_size:\n",
        "            self.batch_size = batch_size\n",
        "\n",
        "        lengths = torch.LongTensor([len(x) for x in inputs])\n",
        "        lengths, permutation_indices = lengths.sort(0, descending=True)\n",
        "\n",
        "        # Pad sequences so that they are all the same length\n",
        "        padded_inputs = pad_sequences(inputs, padding_val=self.padding_idx)\n",
        "        inputs = torch.LongTensor(padded_inputs)\n",
        "\n",
        "        # Sort inputs\n",
        "        inputs = inputs[permutation_indices].to(self.device)\n",
        "\n",
        "        # Get embeddings\n",
        "        embedding_out = self.embedding(inputs)\n",
        "\n",
        "        activations, hidden = self.apply_rnn(embedding_out, lengths)\n",
        "\n",
        "        # attention\n",
        "        attn_output = self.attention(activations, hidden)\n",
        "\n",
        "        x = F.dropout(torch.relu(self.fc1(attn_output)), 0.05)\n",
        "        x = self.fc2(x)\n",
        "        out = torch.sigmoid(x)\n",
        "\n",
        "        # Put the output back in correct order\n",
        "        permutation_index_pairs = list(zip(\n",
        "            permutation_indices.tolist(),\n",
        "            list(range(len(permutation_indices))),\n",
        "        ))\n",
        "        reordered_indices = [\n",
        "            pair[1] for pair\n",
        "            in sorted(permutation_index_pairs, key=lambda pair: pair[0])\n",
        "        ]\n",
        "\n",
        "        if return_activations:\n",
        "            return out[reordered_indices], x[reordered_indices]\n",
        "\n",
        "        return out[reordered_indices]"
      ]
    },
    {
      "cell_type": "markdown",
      "metadata": {
        "id": "FCKELtBIYqaE"
      },
      "source": [
        "## Train the model"
      ]
    },
    {
      "cell_type": "code",
      "execution_count": null,
      "metadata": {
        "id": "vVrdeEx-Pi5M"
      },
      "outputs": [],
      "source": [
        "def train_epoch(model, optimizer, scheduler, train_loader):\n",
        "    model.train()\n",
        "    total_loss = total = 0\n",
        "    progress_bar = tqdm_notebook(train_loader, desc='Training', leave=False)\n",
        "    for inputs, target, text in progress_bar:\n",
        "        target = target.to(device)\n",
        "\n",
        "        # Clean old gradients\n",
        "        optimizer.zero_grad()\n",
        "\n",
        "        # Forwards pass\n",
        "        output = model(inputs)\n",
        "\n",
        "        # Calculate how wrong the model is\n",
        "        loss = criterion(output, target)\n",
        "\n",
        "        # Perform gradient descent, backwards pass\n",
        "        loss.backward()\n",
        "\n",
        "        # Take a step in the right direction\n",
        "        optimizer.step()\n",
        "        scheduler.step()\n",
        "\n",
        "        # Record metrics\n",
        "        total_loss += loss.item()\n",
        "        total += len(target)\n",
        "\n",
        "    return total_loss / total\n",
        "\n",
        "\n",
        "def validate_epoch(model, valid_loader):\n",
        "    model.eval()\n",
        "    total_loss = total = 0\n",
        "    with torch.no_grad():\n",
        "        progress_bar = tqdm_notebook(valid_loader, desc='Validating', leave=False)\n",
        "        for inputs, target, text in progress_bar:\n",
        "            target = target.to(device)\n",
        "\n",
        "            # Forwards pass\n",
        "            output = model(inputs)\n",
        "\n",
        "            # Calculate how wrong the model is\n",
        "            loss = criterion(output, target)\n",
        "\n",
        "            # Record metrics\n",
        "            total_loss += loss.item()\n",
        "            total += len(target)\n",
        "\n",
        "    return total_loss / total"
      ]
    },
    {
      "cell_type": "markdown",
      "metadata": {
        "id": "A5CkeSHxblsI"
      },
      "source": [
        "3. Add one more LSTM layer"
      ]
    },
    {
      "cell_type": "code",
      "execution_count": null,
      "metadata": {
        "colab": {
          "base_uri": "https://localhost:8080/"
        },
        "id": "kIzJ2mFGPMAs",
        "outputId": "485f0ec6-5ca1-4336-cc29-c450c78b4d23"
      },
      "outputs": [
        {
          "data": {
            "text/plain": [
              "RNNClassifier(\n",
              "  (embedding): Embedding(1002, 128)\n",
              "  (rnn): LSTM(128, 64)\n",
              "  (fc1): Linear(in_features=64, out_features=16, bias=True)\n",
              "  (fc2): Linear(in_features=16, out_features=2, bias=True)\n",
              ")"
            ]
          },
          "execution_count": 13,
          "metadata": {},
          "output_type": "execute_result"
        }
      ],
      "source": [
        "dropout_probability = 0.2  #@param {type:\"slider\", min:0.0, max:0.8, step:0.1}\n",
        "n_rnn_layers = 1  #@param {type:\"integer\"}\n",
        "embedding_dimension = 128  #@param {type:\"integer\"}\n",
        "hidden_size = 64  #@param {type:\"integer\"}\n",
        "is_bidirectional = False  #@param [\"False\", \"True\"] {type:\"raw\"}\n",
        "max_epochs = 10  #@param {type:\"integer\"}\n",
        "learning_rate = 0.001  #@param {type:\"number\"}\n",
        "\n",
        "model = RNNClassifier(\n",
        "    output_size=2,  # two classes: positive vs. negative\n",
        "    hidden_size=hidden_size,\n",
        "    embedding_dimension=embedding_dimension,\n",
        "    vocab_size=len(dataset.token2idx),\n",
        "    padding_idx=dataset.token2idx['<PAD>'],\n",
        "    dropout_probability=dropout_probability,\n",
        "    bidirectional=is_bidirectional,\n",
        "    n_layers=n_rnn_layers,\n",
        "    device=device,\n",
        "    batch_size=batch_size,\n",
        ")\n",
        "model = model.to(device)\n",
        "model"
      ]
    },
    {
      "cell_type": "code",
      "execution_count": null,
      "metadata": {
        "id": "nkojdeZgWqtX"
      },
      "outputs": [],
      "source": [
        "criterion = nn.CrossEntropyLoss()\n",
        "optimizer = optim.Adam(\n",
        "    filter(lambda p: p.requires_grad, model.parameters()),\n",
        "    lr=learning_rate,\n",
        ")\n",
        "scheduler = CosineAnnealingLR(optimizer, 1)"
      ]
    },
    {
      "cell_type": "code",
      "execution_count": null,
      "metadata": {
        "colab": {
          "background_save": true,
          "base_uri": "https://localhost:8080/",
          "height": 194,
          "referenced_widgets": [
            "904ca486992943c4b8bcb67d88eb2cdd",
            "200a8ea10fb24f379ad84db3cdd5c2fe",
            "c771122422fb4dddb0baad3b8492fde0",
            "5e1784e65c0946e9ac7f45e3c852b419",
            "c6ecd43899ba483799ff1ad6c9d80849",
            "f35b06ebc10c43fabaa900c0b5576732",
            "da50d0ed9fdf4b39a8fa9850f4d2ee3d",
            "83766d10a95e4f6badec227a92d56341",
            "8de8c0eaa6b54d008c909d835f725d26",
            "24f7f380e7c8468faad85d1dedafadf8",
            "762c6ff2a7674b87bda772e1e7a69ae0",
            "1c4288d08b0e4649852cd948924fc6fa",
            "07c3ce38686548649a9455877645e747",
            "727af3d24823455c85195b30e13e3a8d",
            "d5c40d2c30264d3295763248db5a41cb",
            "c7df370e4468446792767f5db1292b84",
            "3007aaea36ff4152b5e3a9a2ecae1f6a",
            "cbb8b13aea37496ca3fe44a0f3a72ee8",
            "c7745d25b1174d03943f9a0f28516ec4",
            "f733f31b49d947f79f0e139c0462570e",
            "ce637897969b462d95bce4c45a3da074",
            "6107f55ca3c7426494270550adc3a982",
            "3270b2caea3d419a9fa5b89e18a49542",
            "b02775b43dc84f34b4d98d9ed82b44c0",
            "c204f218afcd41e9b4e5a16d73e8cef3",
            "14aa697745cd415b8d04a56e50b53955",
            "8e0d86490d26487d8b5f8dd3fd1c8344",
            "04ce7b8feb2f4431ab7d7dbf43e54445",
            "94ce7305bde04cfa913fd4bd9141c6d3",
            "85c4b673f299471f8d448c45bd97f916",
            "b1bc5032e7304d2092bde1d79933da9d",
            "845112cba27f438ca7eb69f7f5d16338",
            "b0800c0bddce4bb6b30dd5116b7c94db",
            "4c5c089ddad2434b92dfe48a080d2ce7",
            "987b7066fe0541dbad948b0d6ede5198",
            "ff1263a4709f4856887fad03e153c915",
            "49bd901a85c74ca8beb69f4e6ae4a5f3"
          ]
        },
        "id": "4CpZARwhQFSf",
        "outputId": "d8150e69-8fc7-4eca-b464-03cd8c29acc9"
      },
      "outputs": [
        {
          "name": "stderr",
          "output_type": "stream",
          "text": [
            "<ipython-input-12-b858bc31747f>:4: TqdmDeprecationWarning: This function will be removed in tqdm==5.0.0\n",
            "Please use `tqdm.notebook.tqdm` instead of `tqdm.tqdm_notebook`\n",
            "  progress_bar = tqdm_notebook(train_loader, desc='Training', leave=False)\n"
          ]
        },
        {
          "data": {
            "application/vnd.jupyter.widget-view+json": {
              "model_id": "904ca486992943c4b8bcb67d88eb2cdd",
              "version_major": 2,
              "version_minor": 0
            },
            "text/plain": [
              "Training:   0%|          | 0/70 [00:00<?, ?it/s]"
            ]
          },
          "metadata": {},
          "output_type": "display_data"
        },
        {
          "name": "stderr",
          "output_type": "stream",
          "text": [
            "<ipython-input-12-b858bc31747f>:35: TqdmDeprecationWarning: This function will be removed in tqdm==5.0.0\n",
            "Please use `tqdm.notebook.tqdm` instead of `tqdm.tqdm_notebook`\n",
            "  progress_bar = tqdm_notebook(valid_loader, desc='Validating', leave=False)\n"
          ]
        },
        {
          "data": {
            "application/vnd.jupyter.widget-view+json": {
              "model_id": "1c4288d08b0e4649852cd948924fc6fa",
              "version_major": 2,
              "version_minor": 0
            },
            "text/plain": [
              "Validating:   0%|          | 0/25 [00:00<?, ?it/s]"
            ]
          },
          "metadata": {},
          "output_type": "display_data"
        },
        {
          "name": "stdout",
          "output_type": "stream",
          "text": [
            "epoch #  1\ttrain_loss: 1.36e-03\tvalid_loss: 1.38e-03\n",
            "\n"
          ]
        },
        {
          "data": {
            "application/vnd.jupyter.widget-view+json": {
              "model_id": "3270b2caea3d419a9fa5b89e18a49542",
              "version_major": 2,
              "version_minor": 0
            },
            "text/plain": [
              "Training:   0%|          | 0/70 [00:00<?, ?it/s]"
            ]
          },
          "metadata": {},
          "output_type": "display_data"
        },
        {
          "data": {
            "application/vnd.jupyter.widget-view+json": {
              "model_id": "4c5c089ddad2434b92dfe48a080d2ce7",
              "version_major": 2,
              "version_minor": 0
            },
            "text/plain": [
              "Validating:   0%|          | 0/25 [00:00<?, ?it/s]"
            ]
          },
          "metadata": {},
          "output_type": "display_data"
        },
        {
          "name": "stdout",
          "output_type": "stream",
          "text": [
            "epoch #  2\ttrain_loss: 1.33e-03\tvalid_loss: 1.30e-03\n",
            "\n"
          ]
        },
        {
          "data": {
            "application/vnd.jupyter.widget-view+json": {
              "model_id": "987b7066fe0541dbad948b0d6ede5198",
              "version_major": 2,
              "version_minor": 0
            },
            "text/plain": [
              "Training:   0%|          | 0/70 [00:00<?, ?it/s]"
            ]
          },
          "metadata": {},
          "output_type": "display_data"
        },
        {
          "data": {
            "application/vnd.jupyter.widget-view+json": {
              "model_id": "ff1263a4709f4856887fad03e153c915",
              "version_major": 2,
              "version_minor": 0
            },
            "text/plain": [
              "Validating:   0%|          | 0/25 [00:00<?, ?it/s]"
            ]
          },
          "metadata": {},
          "output_type": "display_data"
        },
        {
          "name": "stdout",
          "output_type": "stream",
          "text": [
            "epoch #  3\ttrain_loss: 1.27e-03\tvalid_loss: 1.25e-03\n",
            "\n"
          ]
        },
        {
          "data": {
            "application/vnd.jupyter.widget-view+json": {
              "model_id": "49bd901a85c74ca8beb69f4e6ae4a5f3",
              "version_major": 2,
              "version_minor": 0
            },
            "text/plain": [
              "Training:   0%|          | 0/70 [00:00<?, ?it/s]"
            ]
          },
          "metadata": {},
          "output_type": "display_data"
        }
      ],
      "source": [
        "n_epochs = 0\n",
        "train_losses, valid_losses = [], []\n",
        "for _ in range(max_epochs):\n",
        "    train_loss = train_epoch(model, optimizer, scheduler, train_loader)\n",
        "    valid_loss = validate_epoch(model, valid_loader)\n",
        "\n",
        "    tqdm.write(\n",
        "        f'epoch #{n_epochs + 1:3d}\\ttrain_loss: {train_loss:.2e}'\n",
        "        f'\\tvalid_loss: {valid_loss:.2e}\\n',\n",
        "    )\n",
        "\n",
        "    # Early stopping if the current valid_loss is greater than the last three valid losses\n",
        "    if len(valid_losses) > 2 and all(valid_loss >= loss\n",
        "                                     for loss in valid_losses[-3:]):\n",
        "        print('Stopping early')\n",
        "        break\n",
        "\n",
        "    train_losses.append(train_loss)\n",
        "    valid_losses.append(valid_loss)\n",
        "\n",
        "    n_epochs += 1"
      ]
    },
    {
      "cell_type": "code",
      "execution_count": null,
      "metadata": {
        "id": "mInnLTg7YqaX"
      },
      "outputs": [],
      "source": [
        "epoch_ticks = range(1, n_epochs + 1)\n",
        "plt.plot(epoch_ticks, train_losses)\n",
        "plt.plot(epoch_ticks, valid_losses)\n",
        "plt.legend(['Train Loss', 'Valid Loss'])\n",
        "plt.title('Losses')\n",
        "plt.xlabel('Epoch #')\n",
        "plt.ylabel('Loss')\n",
        "plt.xticks(epoch_ticks)\n",
        "plt.show()"
      ]
    },
    {
      "cell_type": "markdown",
      "metadata": {
        "id": "dbeeNjQoltCa"
      },
      "source": [
        "## Predictions"
      ]
    },
    {
      "cell_type": "code",
      "execution_count": null,
      "metadata": {
        "id": "3O-UyplvcCY-"
      },
      "outputs": [],
      "source": [
        "model.eval()\n",
        "test_accuracy = n_examples = 0\n",
        "y_true, y_pred = [], []\n",
        "with torch.no_grad():\n",
        "    for inputs, target, text in tqdm_notebook(test_loader, leave=False):\n",
        "        target = target.to(device)\n",
        "\n",
        "        _, logits = model(inputs, return_activations=True)\n",
        "\n",
        "        logits = logits.detach().cpu().numpy()\n",
        "        predictions = np.argmax(logits, axis=1)\n",
        "        target = target.cpu().numpy()\n",
        "\n",
        "        y_true.extend(predictions)\n",
        "        y_pred.extend(target)\n",
        "\n",
        "print(classification_report(y_true, y_pred))"
      ]
    },
    {
      "cell_type": "code",
      "execution_count": null,
      "metadata": {
        "id": "jBnsFR_Zlvzq"
      },
      "outputs": [],
      "source": [
        "flatten = lambda x: [sublst for lst in x for sublst in lst]\n",
        "inputs_lst, target_lst, text_lst = zip(*test_loader)\n",
        "inputs_lst, target_lst, text_lst = map(flatten, [inputs_lst, target_lst, text_lst])\n",
        "test_examples = list(zip(inputs_lst, target_lst, text_lst))\n",
        "\n",
        "def print_random_prediction(n=10):\n",
        "    to_emoji = lambda x: '😄' if x else '😡'\n",
        "    model.eval()\n",
        "    rows = []\n",
        "    for _ in range(n):\n",
        "        with torch.no_grad():\n",
        "            inputs, target, text = random.choice(test_examples)\n",
        "            target = target.item()\n",
        "\n",
        "            _, logits = model([inputs], return_activations=True)\n",
        "            logits = logits.detach().cpu().numpy()\n",
        "            prediction = np.argmax(logits, axis=1)[0]\n",
        "\n",
        "            predicted = to_emoji(prediction)\n",
        "            actual = to_emoji(target)\n",
        "\n",
        "            row = f\"\"\"\n",
        "            <tr>\n",
        "            <td>{text}&nbsp;</td>\n",
        "            <td>{predicted}&nbsp;</td>\n",
        "            <td>{actual}&nbsp;</td>\n",
        "            </tr>\n",
        "            \"\"\"\n",
        "            rows.append(row)\n",
        "\n",
        "    rows_joined = '\\n-----------------------------'.join(rows)\n",
        "    table = f\"\"\"\n",
        "<table>\n",
        "<tbody>\n",
        "<tr>\n",
        "<td><b>Review</b>&nbsp;</td>\n",
        "<td><b>Predicted</b>&nbsp;</td>\n",
        "<td><b>Actual</b>&nbsp;</td>\n",
        "</tr>\n",
        "{rows_joined}\n",
        "</tbody>\n",
        "</table>\n",
        "\"\"\"\n",
        "    display(HTML(table))"
      ]
    },
    {
      "cell_type": "code",
      "execution_count": null,
      "metadata": {
        "id": "5rpqt8ZKmFg9"
      },
      "outputs": [],
      "source": [
        "print_random_prediction(n=5)"
      ]
    },
    {
      "cell_type": "code",
      "execution_count": null,
      "metadata": {
        "id": "gxILSq8Rg2Rh"
      },
      "outputs": [],
      "source": []
    },
    {
      "cell_type": "code",
      "execution_count": null,
      "metadata": {
        "id": "nNHvEgqRmSp4"
      },
      "outputs": [],
      "source": []
    }
  ],
  "metadata": {
    "colab": {
      "provenance": []
    },
    "gpuClass": "standard",
    "kernelspec": {
      "display_name": "Python 3",
      "language": "python",
      "name": "python3"
    },
    "widgets": {
      "application/vnd.jupyter.widget-state+json": {
        "04ce7b8feb2f4431ab7d7dbf43e54445": {
          "model_module": "@jupyter-widgets/base",
          "model_module_version": "1.2.0",
          "model_name": "LayoutModel",
          "state": {
            "_model_module": "@jupyter-widgets/base",
            "_model_module_version": "1.2.0",
            "_model_name": "LayoutModel",
            "_view_count": null,
            "_view_module": "@jupyter-widgets/base",
            "_view_module_version": "1.2.0",
            "_view_name": "LayoutView",
            "align_content": null,
            "align_items": null,
            "align_self": null,
            "border": null,
            "bottom": null,
            "display": null,
            "flex": null,
            "flex_flow": null,
            "grid_area": null,
            "grid_auto_columns": null,
            "grid_auto_flow": null,
            "grid_auto_rows": null,
            "grid_column": null,
            "grid_gap": null,
            "grid_row": null,
            "grid_template_areas": null,
            "grid_template_columns": null,
            "grid_template_rows": null,
            "height": null,
            "justify_content": null,
            "justify_items": null,
            "left": null,
            "margin": null,
            "max_height": null,
            "max_width": null,
            "min_height": null,
            "min_width": null,
            "object_fit": null,
            "object_position": null,
            "order": null,
            "overflow": null,
            "overflow_x": null,
            "overflow_y": null,
            "padding": null,
            "right": null,
            "top": null,
            "visibility": null,
            "width": null
          }
        },
        "07c3ce38686548649a9455877645e747": {
          "model_module": "@jupyter-widgets/controls",
          "model_module_version": "1.5.0",
          "model_name": "HTMLModel",
          "state": {
            "_dom_classes": [],
            "_model_module": "@jupyter-widgets/controls",
            "_model_module_version": "1.5.0",
            "_model_name": "HTMLModel",
            "_view_count": null,
            "_view_module": "@jupyter-widgets/controls",
            "_view_module_version": "1.5.0",
            "_view_name": "HTMLView",
            "description": "",
            "description_tooltip": null,
            "layout": "IPY_MODEL_3007aaea36ff4152b5e3a9a2ecae1f6a",
            "placeholder": "​",
            "style": "IPY_MODEL_cbb8b13aea37496ca3fe44a0f3a72ee8",
            "value": "Validating:  96%"
          }
        },
        "14aa697745cd415b8d04a56e50b53955": {
          "model_module": "@jupyter-widgets/controls",
          "model_module_version": "1.5.0",
          "model_name": "HTMLModel",
          "state": {
            "_dom_classes": [],
            "_model_module": "@jupyter-widgets/controls",
            "_model_module_version": "1.5.0",
            "_model_name": "HTMLModel",
            "_view_count": null,
            "_view_module": "@jupyter-widgets/controls",
            "_view_module_version": "1.5.0",
            "_view_name": "HTMLView",
            "description": "",
            "description_tooltip": null,
            "layout": "IPY_MODEL_845112cba27f438ca7eb69f7f5d16338",
            "placeholder": "​",
            "style": "IPY_MODEL_b0800c0bddce4bb6b30dd5116b7c94db",
            "value": " 4/70 [00:55&lt;15:12, 13.83s/it]"
          }
        },
        "1c4288d08b0e4649852cd948924fc6fa": {
          "model_module": "@jupyter-widgets/controls",
          "model_module_version": "1.5.0",
          "model_name": "HBoxModel",
          "state": {
            "_dom_classes": [],
            "_model_module": "@jupyter-widgets/controls",
            "_model_module_version": "1.5.0",
            "_model_name": "HBoxModel",
            "_view_count": null,
            "_view_module": "@jupyter-widgets/controls",
            "_view_module_version": "1.5.0",
            "_view_name": "HBoxView",
            "box_style": "",
            "children": [
              "IPY_MODEL_07c3ce38686548649a9455877645e747",
              "IPY_MODEL_727af3d24823455c85195b30e13e3a8d",
              "IPY_MODEL_d5c40d2c30264d3295763248db5a41cb"
            ],
            "layout": "IPY_MODEL_c7df370e4468446792767f5db1292b84"
          }
        },
        "200a8ea10fb24f379ad84db3cdd5c2fe": {
          "model_module": "@jupyter-widgets/controls",
          "model_module_version": "1.5.0",
          "model_name": "HTMLModel",
          "state": {
            "_dom_classes": [],
            "_model_module": "@jupyter-widgets/controls",
            "_model_module_version": "1.5.0",
            "_model_name": "HTMLModel",
            "_view_count": null,
            "_view_module": "@jupyter-widgets/controls",
            "_view_module_version": "1.5.0",
            "_view_name": "HTMLView",
            "description": "",
            "description_tooltip": null,
            "layout": "IPY_MODEL_f35b06ebc10c43fabaa900c0b5576732",
            "placeholder": "​",
            "style": "IPY_MODEL_da50d0ed9fdf4b39a8fa9850f4d2ee3d",
            "value": "Training: 100%"
          }
        },
        "24f7f380e7c8468faad85d1dedafadf8": {
          "model_module": "@jupyter-widgets/base",
          "model_module_version": "1.2.0",
          "model_name": "LayoutModel",
          "state": {
            "_model_module": "@jupyter-widgets/base",
            "_model_module_version": "1.2.0",
            "_model_name": "LayoutModel",
            "_view_count": null,
            "_view_module": "@jupyter-widgets/base",
            "_view_module_version": "1.2.0",
            "_view_name": "LayoutView",
            "align_content": null,
            "align_items": null,
            "align_self": null,
            "border": null,
            "bottom": null,
            "display": null,
            "flex": null,
            "flex_flow": null,
            "grid_area": null,
            "grid_auto_columns": null,
            "grid_auto_flow": null,
            "grid_auto_rows": null,
            "grid_column": null,
            "grid_gap": null,
            "grid_row": null,
            "grid_template_areas": null,
            "grid_template_columns": null,
            "grid_template_rows": null,
            "height": null,
            "justify_content": null,
            "justify_items": null,
            "left": null,
            "margin": null,
            "max_height": null,
            "max_width": null,
            "min_height": null,
            "min_width": null,
            "object_fit": null,
            "object_position": null,
            "order": null,
            "overflow": null,
            "overflow_x": null,
            "overflow_y": null,
            "padding": null,
            "right": null,
            "top": null,
            "visibility": null,
            "width": null
          }
        },
        "3007aaea36ff4152b5e3a9a2ecae1f6a": {
          "model_module": "@jupyter-widgets/base",
          "model_module_version": "1.2.0",
          "model_name": "LayoutModel",
          "state": {
            "_model_module": "@jupyter-widgets/base",
            "_model_module_version": "1.2.0",
            "_model_name": "LayoutModel",
            "_view_count": null,
            "_view_module": "@jupyter-widgets/base",
            "_view_module_version": "1.2.0",
            "_view_name": "LayoutView",
            "align_content": null,
            "align_items": null,
            "align_self": null,
            "border": null,
            "bottom": null,
            "display": null,
            "flex": null,
            "flex_flow": null,
            "grid_area": null,
            "grid_auto_columns": null,
            "grid_auto_flow": null,
            "grid_auto_rows": null,
            "grid_column": null,
            "grid_gap": null,
            "grid_row": null,
            "grid_template_areas": null,
            "grid_template_columns": null,
            "grid_template_rows": null,
            "height": null,
            "justify_content": null,
            "justify_items": null,
            "left": null,
            "margin": null,
            "max_height": null,
            "max_width": null,
            "min_height": null,
            "min_width": null,
            "object_fit": null,
            "object_position": null,
            "order": null,
            "overflow": null,
            "overflow_x": null,
            "overflow_y": null,
            "padding": null,
            "right": null,
            "top": null,
            "visibility": null,
            "width": null
          }
        },
        "3270b2caea3d419a9fa5b89e18a49542": {
          "model_module": "@jupyter-widgets/controls",
          "model_module_version": "1.5.0",
          "model_name": "HBoxModel",
          "state": {
            "_dom_classes": [],
            "_model_module": "@jupyter-widgets/controls",
            "_model_module_version": "1.5.0",
            "_model_name": "HBoxModel",
            "_view_count": null,
            "_view_module": "@jupyter-widgets/controls",
            "_view_module_version": "1.5.0",
            "_view_name": "HBoxView",
            "box_style": "",
            "children": [
              "IPY_MODEL_b02775b43dc84f34b4d98d9ed82b44c0",
              "IPY_MODEL_c204f218afcd41e9b4e5a16d73e8cef3",
              "IPY_MODEL_14aa697745cd415b8d04a56e50b53955"
            ],
            "layout": "IPY_MODEL_8e0d86490d26487d8b5f8dd3fd1c8344"
          }
        },
        "5e1784e65c0946e9ac7f45e3c852b419": {
          "model_module": "@jupyter-widgets/controls",
          "model_module_version": "1.5.0",
          "model_name": "HTMLModel",
          "state": {
            "_dom_classes": [],
            "_model_module": "@jupyter-widgets/controls",
            "_model_module_version": "1.5.0",
            "_model_name": "HTMLModel",
            "_view_count": null,
            "_view_module": "@jupyter-widgets/controls",
            "_view_module_version": "1.5.0",
            "_view_name": "HTMLView",
            "description": "",
            "description_tooltip": null,
            "layout": "IPY_MODEL_24f7f380e7c8468faad85d1dedafadf8",
            "placeholder": "​",
            "style": "IPY_MODEL_762c6ff2a7674b87bda772e1e7a69ae0",
            "value": " 70/70 [15:42&lt;00:00,  9.85s/it]"
          }
        },
        "6107f55ca3c7426494270550adc3a982": {
          "model_module": "@jupyter-widgets/controls",
          "model_module_version": "1.5.0",
          "model_name": "DescriptionStyleModel",
          "state": {
            "_model_module": "@jupyter-widgets/controls",
            "_model_module_version": "1.5.0",
            "_model_name": "DescriptionStyleModel",
            "_view_count": null,
            "_view_module": "@jupyter-widgets/base",
            "_view_module_version": "1.2.0",
            "_view_name": "StyleView",
            "description_width": ""
          }
        },
        "727af3d24823455c85195b30e13e3a8d": {
          "model_module": "@jupyter-widgets/controls",
          "model_module_version": "1.5.0",
          "model_name": "FloatProgressModel",
          "state": {
            "_dom_classes": [],
            "_model_module": "@jupyter-widgets/controls",
            "_model_module_version": "1.5.0",
            "_model_name": "FloatProgressModel",
            "_view_count": null,
            "_view_module": "@jupyter-widgets/controls",
            "_view_module_version": "1.5.0",
            "_view_name": "ProgressView",
            "bar_style": "",
            "description": "",
            "description_tooltip": null,
            "layout": "IPY_MODEL_c7745d25b1174d03943f9a0f28516ec4",
            "max": 25,
            "min": 0,
            "orientation": "horizontal",
            "style": "IPY_MODEL_f733f31b49d947f79f0e139c0462570e",
            "value": 25
          }
        },
        "762c6ff2a7674b87bda772e1e7a69ae0": {
          "model_module": "@jupyter-widgets/controls",
          "model_module_version": "1.5.0",
          "model_name": "DescriptionStyleModel",
          "state": {
            "_model_module": "@jupyter-widgets/controls",
            "_model_module_version": "1.5.0",
            "_model_name": "DescriptionStyleModel",
            "_view_count": null,
            "_view_module": "@jupyter-widgets/base",
            "_view_module_version": "1.2.0",
            "_view_name": "StyleView",
            "description_width": ""
          }
        },
        "83766d10a95e4f6badec227a92d56341": {
          "model_module": "@jupyter-widgets/base",
          "model_module_version": "1.2.0",
          "model_name": "LayoutModel",
          "state": {
            "_model_module": "@jupyter-widgets/base",
            "_model_module_version": "1.2.0",
            "_model_name": "LayoutModel",
            "_view_count": null,
            "_view_module": "@jupyter-widgets/base",
            "_view_module_version": "1.2.0",
            "_view_name": "LayoutView",
            "align_content": null,
            "align_items": null,
            "align_self": null,
            "border": null,
            "bottom": null,
            "display": null,
            "flex": null,
            "flex_flow": null,
            "grid_area": null,
            "grid_auto_columns": null,
            "grid_auto_flow": null,
            "grid_auto_rows": null,
            "grid_column": null,
            "grid_gap": null,
            "grid_row": null,
            "grid_template_areas": null,
            "grid_template_columns": null,
            "grid_template_rows": null,
            "height": null,
            "justify_content": null,
            "justify_items": null,
            "left": null,
            "margin": null,
            "max_height": null,
            "max_width": null,
            "min_height": null,
            "min_width": null,
            "object_fit": null,
            "object_position": null,
            "order": null,
            "overflow": null,
            "overflow_x": null,
            "overflow_y": null,
            "padding": null,
            "right": null,
            "top": null,
            "visibility": null,
            "width": null
          }
        },
        "845112cba27f438ca7eb69f7f5d16338": {
          "model_module": "@jupyter-widgets/base",
          "model_module_version": "1.2.0",
          "model_name": "LayoutModel",
          "state": {
            "_model_module": "@jupyter-widgets/base",
            "_model_module_version": "1.2.0",
            "_model_name": "LayoutModel",
            "_view_count": null,
            "_view_module": "@jupyter-widgets/base",
            "_view_module_version": "1.2.0",
            "_view_name": "LayoutView",
            "align_content": null,
            "align_items": null,
            "align_self": null,
            "border": null,
            "bottom": null,
            "display": null,
            "flex": null,
            "flex_flow": null,
            "grid_area": null,
            "grid_auto_columns": null,
            "grid_auto_flow": null,
            "grid_auto_rows": null,
            "grid_column": null,
            "grid_gap": null,
            "grid_row": null,
            "grid_template_areas": null,
            "grid_template_columns": null,
            "grid_template_rows": null,
            "height": null,
            "justify_content": null,
            "justify_items": null,
            "left": null,
            "margin": null,
            "max_height": null,
            "max_width": null,
            "min_height": null,
            "min_width": null,
            "object_fit": null,
            "object_position": null,
            "order": null,
            "overflow": null,
            "overflow_x": null,
            "overflow_y": null,
            "padding": null,
            "right": null,
            "top": null,
            "visibility": null,
            "width": null
          }
        },
        "85c4b673f299471f8d448c45bd97f916": {
          "model_module": "@jupyter-widgets/base",
          "model_module_version": "1.2.0",
          "model_name": "LayoutModel",
          "state": {
            "_model_module": "@jupyter-widgets/base",
            "_model_module_version": "1.2.0",
            "_model_name": "LayoutModel",
            "_view_count": null,
            "_view_module": "@jupyter-widgets/base",
            "_view_module_version": "1.2.0",
            "_view_name": "LayoutView",
            "align_content": null,
            "align_items": null,
            "align_self": null,
            "border": null,
            "bottom": null,
            "display": null,
            "flex": null,
            "flex_flow": null,
            "grid_area": null,
            "grid_auto_columns": null,
            "grid_auto_flow": null,
            "grid_auto_rows": null,
            "grid_column": null,
            "grid_gap": null,
            "grid_row": null,
            "grid_template_areas": null,
            "grid_template_columns": null,
            "grid_template_rows": null,
            "height": null,
            "justify_content": null,
            "justify_items": null,
            "left": null,
            "margin": null,
            "max_height": null,
            "max_width": null,
            "min_height": null,
            "min_width": null,
            "object_fit": null,
            "object_position": null,
            "order": null,
            "overflow": null,
            "overflow_x": null,
            "overflow_y": null,
            "padding": null,
            "right": null,
            "top": null,
            "visibility": null,
            "width": null
          }
        },
        "8de8c0eaa6b54d008c909d835f725d26": {
          "model_module": "@jupyter-widgets/controls",
          "model_module_version": "1.5.0",
          "model_name": "ProgressStyleModel",
          "state": {
            "_model_module": "@jupyter-widgets/controls",
            "_model_module_version": "1.5.0",
            "_model_name": "ProgressStyleModel",
            "_view_count": null,
            "_view_module": "@jupyter-widgets/base",
            "_view_module_version": "1.2.0",
            "_view_name": "StyleView",
            "bar_color": null,
            "description_width": ""
          }
        },
        "8e0d86490d26487d8b5f8dd3fd1c8344": {
          "model_module": "@jupyter-widgets/base",
          "model_module_version": "1.2.0",
          "model_name": "LayoutModel",
          "state": {
            "_model_module": "@jupyter-widgets/base",
            "_model_module_version": "1.2.0",
            "_model_name": "LayoutModel",
            "_view_count": null,
            "_view_module": "@jupyter-widgets/base",
            "_view_module_version": "1.2.0",
            "_view_name": "LayoutView",
            "align_content": null,
            "align_items": null,
            "align_self": null,
            "border": null,
            "bottom": null,
            "display": null,
            "flex": null,
            "flex_flow": null,
            "grid_area": null,
            "grid_auto_columns": null,
            "grid_auto_flow": null,
            "grid_auto_rows": null,
            "grid_column": null,
            "grid_gap": null,
            "grid_row": null,
            "grid_template_areas": null,
            "grid_template_columns": null,
            "grid_template_rows": null,
            "height": null,
            "justify_content": null,
            "justify_items": null,
            "left": null,
            "margin": null,
            "max_height": null,
            "max_width": null,
            "min_height": null,
            "min_width": null,
            "object_fit": null,
            "object_position": null,
            "order": null,
            "overflow": null,
            "overflow_x": null,
            "overflow_y": null,
            "padding": null,
            "right": null,
            "top": null,
            "visibility": null,
            "width": null
          }
        },
        "904ca486992943c4b8bcb67d88eb2cdd": {
          "model_module": "@jupyter-widgets/controls",
          "model_module_version": "1.5.0",
          "model_name": "HBoxModel",
          "state": {
            "_dom_classes": [],
            "_model_module": "@jupyter-widgets/controls",
            "_model_module_version": "1.5.0",
            "_model_name": "HBoxModel",
            "_view_count": null,
            "_view_module": "@jupyter-widgets/controls",
            "_view_module_version": "1.5.0",
            "_view_name": "HBoxView",
            "box_style": "",
            "children": [
              "IPY_MODEL_200a8ea10fb24f379ad84db3cdd5c2fe",
              "IPY_MODEL_c771122422fb4dddb0baad3b8492fde0",
              "IPY_MODEL_5e1784e65c0946e9ac7f45e3c852b419"
            ],
            "layout": "IPY_MODEL_c6ecd43899ba483799ff1ad6c9d80849"
          }
        },
        "94ce7305bde04cfa913fd4bd9141c6d3": {
          "model_module": "@jupyter-widgets/controls",
          "model_module_version": "1.5.0",
          "model_name": "DescriptionStyleModel",
          "state": {
            "_model_module": "@jupyter-widgets/controls",
            "_model_module_version": "1.5.0",
            "_model_name": "DescriptionStyleModel",
            "_view_count": null,
            "_view_module": "@jupyter-widgets/base",
            "_view_module_version": "1.2.0",
            "_view_name": "StyleView",
            "description_width": ""
          }
        },
        "b02775b43dc84f34b4d98d9ed82b44c0": {
          "model_module": "@jupyter-widgets/controls",
          "model_module_version": "1.5.0",
          "model_name": "HTMLModel",
          "state": {
            "_dom_classes": [],
            "_model_module": "@jupyter-widgets/controls",
            "_model_module_version": "1.5.0",
            "_model_name": "HTMLModel",
            "_view_count": null,
            "_view_module": "@jupyter-widgets/controls",
            "_view_module_version": "1.5.0",
            "_view_name": "HTMLView",
            "description": "",
            "description_tooltip": null,
            "layout": "IPY_MODEL_04ce7b8feb2f4431ab7d7dbf43e54445",
            "placeholder": "​",
            "style": "IPY_MODEL_94ce7305bde04cfa913fd4bd9141c6d3",
            "value": "Training:   6%"
          }
        },
        "b0800c0bddce4bb6b30dd5116b7c94db": {
          "model_module": "@jupyter-widgets/controls",
          "model_module_version": "1.5.0",
          "model_name": "DescriptionStyleModel",
          "state": {
            "_model_module": "@jupyter-widgets/controls",
            "_model_module_version": "1.5.0",
            "_model_name": "DescriptionStyleModel",
            "_view_count": null,
            "_view_module": "@jupyter-widgets/base",
            "_view_module_version": "1.2.0",
            "_view_name": "StyleView",
            "description_width": ""
          }
        },
        "b1bc5032e7304d2092bde1d79933da9d": {
          "model_module": "@jupyter-widgets/controls",
          "model_module_version": "1.5.0",
          "model_name": "ProgressStyleModel",
          "state": {
            "_model_module": "@jupyter-widgets/controls",
            "_model_module_version": "1.5.0",
            "_model_name": "ProgressStyleModel",
            "_view_count": null,
            "_view_module": "@jupyter-widgets/base",
            "_view_module_version": "1.2.0",
            "_view_name": "StyleView",
            "bar_color": null,
            "description_width": ""
          }
        },
        "c204f218afcd41e9b4e5a16d73e8cef3": {
          "model_module": "@jupyter-widgets/controls",
          "model_module_version": "1.5.0",
          "model_name": "FloatProgressModel",
          "state": {
            "_dom_classes": [],
            "_model_module": "@jupyter-widgets/controls",
            "_model_module_version": "1.5.0",
            "_model_name": "FloatProgressModel",
            "_view_count": null,
            "_view_module": "@jupyter-widgets/controls",
            "_view_module_version": "1.5.0",
            "_view_name": "ProgressView",
            "bar_style": "",
            "description": "",
            "description_tooltip": null,
            "layout": "IPY_MODEL_85c4b673f299471f8d448c45bd97f916",
            "max": 70,
            "min": 0,
            "orientation": "horizontal",
            "style": "IPY_MODEL_b1bc5032e7304d2092bde1d79933da9d",
            "value": 4
          }
        },
        "c6ecd43899ba483799ff1ad6c9d80849": {
          "model_module": "@jupyter-widgets/base",
          "model_module_version": "1.2.0",
          "model_name": "LayoutModel",
          "state": {
            "_model_module": "@jupyter-widgets/base",
            "_model_module_version": "1.2.0",
            "_model_name": "LayoutModel",
            "_view_count": null,
            "_view_module": "@jupyter-widgets/base",
            "_view_module_version": "1.2.0",
            "_view_name": "LayoutView",
            "align_content": null,
            "align_items": null,
            "align_self": null,
            "border": null,
            "bottom": null,
            "display": null,
            "flex": null,
            "flex_flow": null,
            "grid_area": null,
            "grid_auto_columns": null,
            "grid_auto_flow": null,
            "grid_auto_rows": null,
            "grid_column": null,
            "grid_gap": null,
            "grid_row": null,
            "grid_template_areas": null,
            "grid_template_columns": null,
            "grid_template_rows": null,
            "height": null,
            "justify_content": null,
            "justify_items": null,
            "left": null,
            "margin": null,
            "max_height": null,
            "max_width": null,
            "min_height": null,
            "min_width": null,
            "object_fit": null,
            "object_position": null,
            "order": null,
            "overflow": null,
            "overflow_x": null,
            "overflow_y": null,
            "padding": null,
            "right": null,
            "top": null,
            "visibility": "hidden",
            "width": null
          }
        },
        "c771122422fb4dddb0baad3b8492fde0": {
          "model_module": "@jupyter-widgets/controls",
          "model_module_version": "1.5.0",
          "model_name": "FloatProgressModel",
          "state": {
            "_dom_classes": [],
            "_model_module": "@jupyter-widgets/controls",
            "_model_module_version": "1.5.0",
            "_model_name": "FloatProgressModel",
            "_view_count": null,
            "_view_module": "@jupyter-widgets/controls",
            "_view_module_version": "1.5.0",
            "_view_name": "ProgressView",
            "bar_style": "",
            "description": "",
            "description_tooltip": null,
            "layout": "IPY_MODEL_83766d10a95e4f6badec227a92d56341",
            "max": 70,
            "min": 0,
            "orientation": "horizontal",
            "style": "IPY_MODEL_8de8c0eaa6b54d008c909d835f725d26",
            "value": 70
          }
        },
        "c7745d25b1174d03943f9a0f28516ec4": {
          "model_module": "@jupyter-widgets/base",
          "model_module_version": "1.2.0",
          "model_name": "LayoutModel",
          "state": {
            "_model_module": "@jupyter-widgets/base",
            "_model_module_version": "1.2.0",
            "_model_name": "LayoutModel",
            "_view_count": null,
            "_view_module": "@jupyter-widgets/base",
            "_view_module_version": "1.2.0",
            "_view_name": "LayoutView",
            "align_content": null,
            "align_items": null,
            "align_self": null,
            "border": null,
            "bottom": null,
            "display": null,
            "flex": null,
            "flex_flow": null,
            "grid_area": null,
            "grid_auto_columns": null,
            "grid_auto_flow": null,
            "grid_auto_rows": null,
            "grid_column": null,
            "grid_gap": null,
            "grid_row": null,
            "grid_template_areas": null,
            "grid_template_columns": null,
            "grid_template_rows": null,
            "height": null,
            "justify_content": null,
            "justify_items": null,
            "left": null,
            "margin": null,
            "max_height": null,
            "max_width": null,
            "min_height": null,
            "min_width": null,
            "object_fit": null,
            "object_position": null,
            "order": null,
            "overflow": null,
            "overflow_x": null,
            "overflow_y": null,
            "padding": null,
            "right": null,
            "top": null,
            "visibility": null,
            "width": null
          }
        },
        "c7df370e4468446792767f5db1292b84": {
          "model_module": "@jupyter-widgets/base",
          "model_module_version": "1.2.0",
          "model_name": "LayoutModel",
          "state": {
            "_model_module": "@jupyter-widgets/base",
            "_model_module_version": "1.2.0",
            "_model_name": "LayoutModel",
            "_view_count": null,
            "_view_module": "@jupyter-widgets/base",
            "_view_module_version": "1.2.0",
            "_view_name": "LayoutView",
            "align_content": null,
            "align_items": null,
            "align_self": null,
            "border": null,
            "bottom": null,
            "display": null,
            "flex": null,
            "flex_flow": null,
            "grid_area": null,
            "grid_auto_columns": null,
            "grid_auto_flow": null,
            "grid_auto_rows": null,
            "grid_column": null,
            "grid_gap": null,
            "grid_row": null,
            "grid_template_areas": null,
            "grid_template_columns": null,
            "grid_template_rows": null,
            "height": null,
            "justify_content": null,
            "justify_items": null,
            "left": null,
            "margin": null,
            "max_height": null,
            "max_width": null,
            "min_height": null,
            "min_width": null,
            "object_fit": null,
            "object_position": null,
            "order": null,
            "overflow": null,
            "overflow_x": null,
            "overflow_y": null,
            "padding": null,
            "right": null,
            "top": null,
            "visibility": "hidden",
            "width": null
          }
        },
        "cbb8b13aea37496ca3fe44a0f3a72ee8": {
          "model_module": "@jupyter-widgets/controls",
          "model_module_version": "1.5.0",
          "model_name": "DescriptionStyleModel",
          "state": {
            "_model_module": "@jupyter-widgets/controls",
            "_model_module_version": "1.5.0",
            "_model_name": "DescriptionStyleModel",
            "_view_count": null,
            "_view_module": "@jupyter-widgets/base",
            "_view_module_version": "1.2.0",
            "_view_name": "StyleView",
            "description_width": ""
          }
        },
        "ce637897969b462d95bce4c45a3da074": {
          "model_module": "@jupyter-widgets/base",
          "model_module_version": "1.2.0",
          "model_name": "LayoutModel",
          "state": {
            "_model_module": "@jupyter-widgets/base",
            "_model_module_version": "1.2.0",
            "_model_name": "LayoutModel",
            "_view_count": null,
            "_view_module": "@jupyter-widgets/base",
            "_view_module_version": "1.2.0",
            "_view_name": "LayoutView",
            "align_content": null,
            "align_items": null,
            "align_self": null,
            "border": null,
            "bottom": null,
            "display": null,
            "flex": null,
            "flex_flow": null,
            "grid_area": null,
            "grid_auto_columns": null,
            "grid_auto_flow": null,
            "grid_auto_rows": null,
            "grid_column": null,
            "grid_gap": null,
            "grid_row": null,
            "grid_template_areas": null,
            "grid_template_columns": null,
            "grid_template_rows": null,
            "height": null,
            "justify_content": null,
            "justify_items": null,
            "left": null,
            "margin": null,
            "max_height": null,
            "max_width": null,
            "min_height": null,
            "min_width": null,
            "object_fit": null,
            "object_position": null,
            "order": null,
            "overflow": null,
            "overflow_x": null,
            "overflow_y": null,
            "padding": null,
            "right": null,
            "top": null,
            "visibility": null,
            "width": null
          }
        },
        "d5c40d2c30264d3295763248db5a41cb": {
          "model_module": "@jupyter-widgets/controls",
          "model_module_version": "1.5.0",
          "model_name": "HTMLModel",
          "state": {
            "_dom_classes": [],
            "_model_module": "@jupyter-widgets/controls",
            "_model_module_version": "1.5.0",
            "_model_name": "HTMLModel",
            "_view_count": null,
            "_view_module": "@jupyter-widgets/controls",
            "_view_module_version": "1.5.0",
            "_view_name": "HTMLView",
            "description": "",
            "description_tooltip": null,
            "layout": "IPY_MODEL_ce637897969b462d95bce4c45a3da074",
            "placeholder": "​",
            "style": "IPY_MODEL_6107f55ca3c7426494270550adc3a982",
            "value": " 24/25 [00:07&lt;00:00,  3.59it/s]"
          }
        },
        "da50d0ed9fdf4b39a8fa9850f4d2ee3d": {
          "model_module": "@jupyter-widgets/controls",
          "model_module_version": "1.5.0",
          "model_name": "DescriptionStyleModel",
          "state": {
            "_model_module": "@jupyter-widgets/controls",
            "_model_module_version": "1.5.0",
            "_model_name": "DescriptionStyleModel",
            "_view_count": null,
            "_view_module": "@jupyter-widgets/base",
            "_view_module_version": "1.2.0",
            "_view_name": "StyleView",
            "description_width": ""
          }
        },
        "f35b06ebc10c43fabaa900c0b5576732": {
          "model_module": "@jupyter-widgets/base",
          "model_module_version": "1.2.0",
          "model_name": "LayoutModel",
          "state": {
            "_model_module": "@jupyter-widgets/base",
            "_model_module_version": "1.2.0",
            "_model_name": "LayoutModel",
            "_view_count": null,
            "_view_module": "@jupyter-widgets/base",
            "_view_module_version": "1.2.0",
            "_view_name": "LayoutView",
            "align_content": null,
            "align_items": null,
            "align_self": null,
            "border": null,
            "bottom": null,
            "display": null,
            "flex": null,
            "flex_flow": null,
            "grid_area": null,
            "grid_auto_columns": null,
            "grid_auto_flow": null,
            "grid_auto_rows": null,
            "grid_column": null,
            "grid_gap": null,
            "grid_row": null,
            "grid_template_areas": null,
            "grid_template_columns": null,
            "grid_template_rows": null,
            "height": null,
            "justify_content": null,
            "justify_items": null,
            "left": null,
            "margin": null,
            "max_height": null,
            "max_width": null,
            "min_height": null,
            "min_width": null,
            "object_fit": null,
            "object_position": null,
            "order": null,
            "overflow": null,
            "overflow_x": null,
            "overflow_y": null,
            "padding": null,
            "right": null,
            "top": null,
            "visibility": null,
            "width": null
          }
        },
        "f733f31b49d947f79f0e139c0462570e": {
          "model_module": "@jupyter-widgets/controls",
          "model_module_version": "1.5.0",
          "model_name": "ProgressStyleModel",
          "state": {
            "_model_module": "@jupyter-widgets/controls",
            "_model_module_version": "1.5.0",
            "_model_name": "ProgressStyleModel",
            "_view_count": null,
            "_view_module": "@jupyter-widgets/base",
            "_view_module_version": "1.2.0",
            "_view_name": "StyleView",
            "bar_color": null,
            "description_width": ""
          }
        }
      }
    }
  },
  "nbformat": 4,
  "nbformat_minor": 0
}